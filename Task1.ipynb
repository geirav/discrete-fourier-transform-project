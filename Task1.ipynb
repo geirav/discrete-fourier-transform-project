{
 "cells": [
  {
   "cell_type": "code",
   "execution_count": 82,
   "id": "a3d04d9f-1875-4e0c-969f-56ff3e6fc560",
   "metadata": {},
   "outputs": [],
   "source": [
    "import sympy as sy"
   ]
  },
  {
   "cell_type": "markdown",
   "id": "6c1a4857-b93b-433a-a75e-13860395a90d",
   "metadata": {},
   "source": [
    "# Task 1\n",
    "\n"
   ]
  },
  {
   "cell_type": "markdown",
   "id": "95c71a16-e39f-4ae3-b300-2f0f6c23c619",
   "metadata": {},
   "source": [
    "## 1 a)\n",
    "\n",
    "Assume $x \\in \\mathbb{T} $ and $k,h \\in \\mathbb{Z}$. Then is \n",
    "$$\n",
    "\\langle e^{2 \\pi i kx}, e^{2 \\pi i hx} \\rangle\n",
    " = \\begin{cases}\n",
    " 1, \\quad \\text{if } k= h \\\\\n",
    " 0 \\quad \\text{else }\n",
    " \\end{cases}\n",
    " $$\n",
    "\n",
    "**Proof.** Using the definition of inner product can we easily see that \n",
    "$$\n",
    "\\langle e^{2 \\pi i kx}, e^{2 \\pi i hx} \\rangle = \\int_0^1 e^{2 \\pi i kx} \\overline{ e^{2 \\pi i hx}} dx =  \\int_0^1 e^{2 \\pi i (k - h)x} dx\n",
    " $$\n",
    " We can easily see that if $k=h$, then is \n",
    " $$\n",
    "  \\int_0^1 e^{2 \\pi i (k - h)x} dx = \\int_0^1 1 \\cdot  dx = 1\n",
    " $$\n",
    "\n",
    "For the case $k \\neq h$ is \n",
    "$$\n",
    "  \\int_0^1 e^{2 \\pi i (k - h)x} dx = \\frac{1}{2 \\pi i (k - h)} (e^{2 \\pi i (k - h)} - 1) = \\frac{e^{ \\pi i (k - h)}}{ \\pi  (k - h)} \\cdot  \\frac{(e^{ \\pi i (k - h)} - e^{ - \\pi i (k - h)})}{2i} = \\frac{e^{ \\pi i (k - h)}}{ \\pi  (k - h)} \\cdot  sin( \\pi  (k - h))  = 0\n",
    "$$\n",
    "\n",
    "Hence, the orthonormality is shown.  $\\square$"
   ]
  },
  {
   "cell_type": "markdown",
   "id": "7823fe78-d0d2-495d-8051-d71d042e9fbd",
   "metadata": {},
   "source": [
    "## 1 b)\n",
    "\n",
    "Assume $x \\in \\mathbb{T} $ and $m,n \\in 1,2, \\dots $. Then the following functions (the constant) $\\cos(2\\pi \\cdot 0 \\cdot x )$, $  \\sqrt{2}\\sin(2\\pi \\cdot m \\cdot x ) $ and \n",
    "$ \\sqrt{2}\\cos(2\\pi \\cdot n \\cdot x )$ form a orthonormal system. \n",
    "\n",
    "**Proof.** We will first see if the functions are orthonormal to itself.\n",
    "\n",
    "\n",
    "\n",
    "\n",
    "$$\n",
    "\\langle \\sqrt{2} \\sin(2\\pi n),\\sqrt{2} \\sin(2\\pi m)  \\rangle\n",
    " = \\int_0^1 2  \\sin(2\\pi n) \\sin(2\\pi m)dx \n",
    " $$\n",
    "\n"
   ]
  },
  {
   "cell_type": "code",
   "execution_count": 83,
   "id": "b2d4f9d4-e83b-4ba3-bfb2-4dab3ded3cf8",
   "metadata": {},
   "outputs": [],
   "source": [
    "# Defining symbols\n",
    "sy.init_printing(use_unicode=True, wrap_line=True)\n",
    "x  = sy.symbols('x')\n",
    "n, m = sy.symbols('n m', integer = True, positive=True) # Positive integers 1,2,3,..."
   ]
  },
  {
   "cell_type": "markdown",
   "id": "6fd0e519-3d90-47f4-a4de-76effbd13f08",
   "metadata": {},
   "source": [
    "\n",
    "### OBS NEED TO INCLUDE  m = n = 0  AS WELL \n",
    "https://github.com/sympy/sympy/issues/24143"
   ]
  },
  {
   "cell_type": "markdown",
   "id": "e71f6610-5f52-498f-968a-34aa2584fe0e",
   "metadata": {},
   "source": [
    "First expression has the form \n",
    "$$\n",
    "\\langle 1, 1   \\rangle = \\int_0^1 dx = 1 \n",
    "$$\n",
    "which fulfills the orthonormal condition.\n"
   ]
  },
  {
   "cell_type": "markdown",
   "id": "c4dcb447-c232-4130-96fd-a5c66998e052",
   "metadata": {},
   "source": [
    "The second expression has the form \n",
    "$$\n",
    "\\langle \\sqrt{2} \\sin(2\\pi n),\\sqrt{2} \\sin(2\\pi m)  \\rangle \n",
    "$$\n",
    "which can be expressed in sympy as "
   ]
  },
  {
   "cell_type": "code",
   "execution_count": 84,
   "id": "1c9f0523-51f3-4bbe-8bb9-3bb19891f865",
   "metadata": {},
   "outputs": [
    {
     "data": {
      "image/png": "[encoded data removed]",
      "text/latex": [
       "$\\displaystyle \\int\\limits_{0}^{1} 2 \\sin{\\left(2 \\pi m x \\right)} \\sin{\\left(2 \\pi n x \\right)}\\, dx$"
      ],
      "text/plain": [
       "1                               \n",
       "⌠                               \n",
       "⎮ 2⋅sin(2⋅π⋅m⋅x)⋅sin(2⋅π⋅n⋅x) dx\n",
       "⌡                               \n",
       "0                               "
      ]
     },
     "execution_count": 84,
     "metadata": {},
     "output_type": "execute_result"
    }
   ],
   "source": [
    "int_ = sy.Integral( 2*sy.sin(2 * sy.pi * m * x)*sy.sin(2 * sy.pi * n * x), (x,0,1))\n",
    "int_"
   ]
  },
  {
   "cell_type": "markdown",
   "id": "b6ce3767-75df-4b0a-8501-4abc332db0db",
   "metadata": {},
   "source": [
    "And solving the integral gives"
   ]
  },
  {
   "cell_type": "code",
   "execution_count": 85,
   "id": "bd148870-3a52-47f2-8ac8-2f98244e4290",
   "metadata": {},
   "outputs": [
    {
     "data": {
      "image/png": "[encoded data removed]",
      "text/latex": [
       "$\\displaystyle \\begin{cases} 0 & \\text{for}\\: m \\neq n \\\\1 & \\text{otherwise} \\end{cases}$"
      ],
      "text/plain": [
       "⎧0  for m ≠ n\n",
       "⎨            \n",
       "⎩1  otherwise"
      ]
     },
     "execution_count": 85,
     "metadata": {},
     "output_type": "execute_result"
    }
   ],
   "source": [
    "int_.doit()"
   ]
  },
  {
   "cell_type": "markdown",
   "id": "5e6c8608-483d-4955-b238-4d0f4dd18d0c",
   "metadata": {},
   "source": [
    "Similarly the third expression has the form \n",
    "$$\n",
    "\\langle \\sqrt{2} \\cos(2\\pi n),\\sqrt{2} \\cos(2\\pi m)  \\rangle \n",
    "$$\n",
    "which is expressed in sympy as "
   ]
  },
  {
   "cell_type": "code",
   "execution_count": 86,
   "id": "7791f158-655d-4f77-9ef7-1d7e731e2d85",
   "metadata": {},
   "outputs": [
    {
     "data": {
      "image/png": "[encoded data removed]",
      "text/latex": [
       "$\\displaystyle \\int\\limits_{0}^{1} 2 \\cos{\\left(2 \\pi m x \\right)} \\cos{\\left(2 \\pi n x \\right)}\\, dx$"
      ],
      "text/plain": [
       "1                               \n",
       "⌠                               \n",
       "⎮ 2⋅cos(2⋅π⋅m⋅x)⋅cos(2⋅π⋅n⋅x) dx\n",
       "⌡                               \n",
       "0                               "
      ]
     },
     "execution_count": 86,
     "metadata": {},
     "output_type": "execute_result"
    }
   ],
   "source": [
    "int_ = sy.Integral( 2*sy.cos(2 * sy.pi * m * x)*sy.cos(2 * sy.pi * n * x), (x,0,1))\n",
    "int_"
   ]
  },
  {
   "cell_type": "markdown",
   "id": "a623b102-cee5-4f4c-8d39-d8811c6e6cee",
   "metadata": {},
   "source": [
    "And solving the integral gives"
   ]
  },
  {
   "cell_type": "code",
   "execution_count": 87,
   "id": "17b1d439-9f88-44ed-81d2-4039d9594889",
   "metadata": {},
   "outputs": [
    {
     "data": {
      "image/png": "[encoded data removed]",
      "text/latex": [
       "$\\displaystyle \\begin{cases} 0 & \\text{for}\\: m \\neq n \\\\1 & \\text{otherwise} \\end{cases}$"
      ],
      "text/plain": [
       "⎧0  for m ≠ n\n",
       "⎨            \n",
       "⎩1  otherwise"
      ]
     },
     "execution_count": 87,
     "metadata": {},
     "output_type": "execute_result"
    }
   ],
   "source": [
    "int_.doit()"
   ]
  },
  {
   "cell_type": "markdown",
   "id": "038fb4f6-f119-454f-98a6-15d08e332cb9",
   "metadata": {},
   "source": [
    "If we set $m=0$ and $n=0$ then we of course get "
   ]
  },
  {
   "cell_type": "code",
   "execution_count": 88,
   "id": "8d2ca0bd-fe52-4fcb-9aaa-08c165870a2d",
   "metadata": {},
   "outputs": [
    {
     "data": {
      "image/png": "[encoded data removed]",
      "text/latex": [
       "$\\displaystyle 2$"
      ],
      "text/plain": [
       "2"
      ]
     },
     "execution_count": 88,
     "metadata": {},
     "output_type": "execute_result"
    }
   ],
   "source": [
    "int_ = sy.Integral( 2*sy.cos(2 * sy.pi * 0 * x)*sy.cos(2 * sy.pi * 0 * x), (x,0,1))\n",
    "int_.doit()"
   ]
  },
  {
   "cell_type": "markdown",
   "id": "49ccf126-6924-4f58-a99f-c7ac1781c4c5",
   "metadata": {},
   "source": [
    "And similarly it will cancel out if only one of them is zero"
   ]
  },
  {
   "cell_type": "code",
   "execution_count": 89,
   "id": "1596c2ff-deec-4f65-a7da-35a93727481a",
   "metadata": {},
   "outputs": [
    {
     "data": {
      "image/png": "[encoded data removed]",
      "text/latex": [
       "$\\displaystyle 0$"
      ],
      "text/plain": [
       "0"
      ]
     },
     "execution_count": 89,
     "metadata": {},
     "output_type": "execute_result"
    }
   ],
   "source": [
    "int_ = sy.Integral( 2*sy.cos(2 * sy.pi * 0 * x)*sy.cos(2 * sy.pi * n * x), (x,0,1))\n",
    "int_.doit()"
   ]
  },
  {
   "cell_type": "markdown",
   "id": "bb338e81-f76d-45f2-ae96-7da77e429174",
   "metadata": {},
   "source": [
    "Now it only remains to check if they are orthonormal to eachother.\n",
    "\n",
    "We can start with \n",
    "\n",
    "$$\n",
    "\\langle \\sqrt{2} \\sin(2\\pi n),\\sqrt{2} \\cos(2\\pi m)  \\rangle \n",
    "$$\n",
    "which is expressed in sympy as \n"
   ]
  },
  {
   "cell_type": "code",
   "execution_count": 90,
   "id": "b266f5ac-c805-45be-a29c-108c752b546c",
   "metadata": {},
   "outputs": [
    {
     "data": {
      "image/png": "[encoded data removed]",
      "text/latex": [
       "$\\displaystyle \\int\\limits_{0}^{1} 2 \\sin{\\left(2 \\pi n x \\right)} \\cos{\\left(2 \\pi m x \\right)}\\, dx$"
      ],
      "text/plain": [
       "1                               \n",
       "⌠                               \n",
       "⎮ 2⋅sin(2⋅π⋅n⋅x)⋅cos(2⋅π⋅m⋅x) dx\n",
       "⌡                               \n",
       "0                               "
      ]
     },
     "execution_count": 90,
     "metadata": {},
     "output_type": "execute_result"
    }
   ],
   "source": [
    "int_ = sy.Integral( 2*sy.sin(2 * sy.pi * n * x)*sy.cos(2 * sy.pi * m * x), (x,0,1))\n",
    "int_"
   ]
  },
  {
   "cell_type": "markdown",
   "id": "6a5a42f5-8b3d-46ed-a119-bff8db569160",
   "metadata": {},
   "source": [
    "which obviously is zero as shown."
   ]
  },
  {
   "cell_type": "code",
   "execution_count": 91,
   "id": "15c1cbc1-b1b1-4695-a3f2-e7641a03fcff",
   "metadata": {},
   "outputs": [
    {
     "data": {
      "image/png": "[encoded data removed]",
      "text/latex": [
       "$\\displaystyle 0$"
      ],
      "text/plain": [
       "0"
      ]
     },
     "execution_count": 91,
     "metadata": {},
     "output_type": "execute_result"
    }
   ],
   "source": [
    "int_.doit()\n"
   ]
  },
  {
   "cell_type": "markdown",
   "id": "1e4703be-88e7-4e09-b267-cd8cbc2deed3",
   "metadata": {},
   "source": [
    "And finally, we need to show the inner product with the constant is zero, i.e. \n",
    "\n",
    "$$\n",
    "\\langle \\cos(2\\pi 0 x),\\sqrt{2} \\cos(2\\pi m)  \\rangle = 0\n",
    "$$\n",
    "and\n",
    "$$\n",
    "\\langle \\cos(2\\pi 0 x),\\sqrt{2} \\sin(2\\pi m)  \\rangle = 0\n",
    "$$\n",
    "\n",
    "\n",
    "The first one is expressed in sympy as "
   ]
  },
  {
   "cell_type": "code",
   "execution_count": 92,
   "id": "453fd24e-7562-48ad-b622-a7620312ff3f",
   "metadata": {},
   "outputs": [
    {
     "data": {
      "image/png": "[encoded data removed]",
      "text/latex": [
       "$\\displaystyle \\int\\limits_{0}^{1} \\cos{\\left(2 \\pi m x \\right)}\\, dx$"
      ],
      "text/plain": [
       "1                \n",
       "⌠                \n",
       "⎮ cos(2⋅π⋅m⋅x) dx\n",
       "⌡                \n",
       "0                "
      ]
     },
     "execution_count": 92,
     "metadata": {},
     "output_type": "execute_result"
    }
   ],
   "source": [
    "int_ = sy.Integral( sy.cos(2 * sy.pi * m * x), (x,0,1))\n",
    "int_"
   ]
  },
  {
   "cell_type": "markdown",
   "id": "34d3bd25-b0aa-41be-b73a-af7b2f4cce04",
   "metadata": {},
   "source": [
    "which is zero"
   ]
  },
  {
   "cell_type": "code",
   "execution_count": 93,
   "id": "4e2df772-994b-439a-a2c4-77ce416f5409",
   "metadata": {},
   "outputs": [
    {
     "data": {
      "image/png": "[encoded data removed]",
      "text/latex": [
       "$\\displaystyle 0$"
      ],
      "text/plain": [
       "0"
      ]
     },
     "execution_count": 93,
     "metadata": {},
     "output_type": "execute_result"
    }
   ],
   "source": [
    "int_.doit()"
   ]
  },
  {
   "cell_type": "markdown",
   "id": "a6981acc-be4c-426a-8d46-2c895b0bd43f",
   "metadata": {},
   "source": [
    "and "
   ]
  },
  {
   "cell_type": "code",
   "execution_count": 94,
   "id": "aaf11620-9bbf-4ed3-9772-84fed65eafea",
   "metadata": {},
   "outputs": [
    {
     "data": {
      "image/png": "[encoded data removed]",
      "text/latex": [
       "$\\displaystyle \\int\\limits_{0}^{1} \\sin{\\left(2 \\pi m x \\right)}\\, dx$"
      ],
      "text/plain": [
       "1                \n",
       "⌠                \n",
       "⎮ sin(2⋅π⋅m⋅x) dx\n",
       "⌡                \n",
       "0                "
      ]
     },
     "execution_count": 94,
     "metadata": {},
     "output_type": "execute_result"
    }
   ],
   "source": [
    "int_ = sy.Integral( sy.sin(2 * sy.pi * m * x), (x,0,1))\n",
    "int_"
   ]
  },
  {
   "cell_type": "markdown",
   "id": "a1286db6-91fb-4c8f-ba56-a393592b2dcb",
   "metadata": {},
   "source": [
    "which also is zero. "
   ]
  },
  {
   "cell_type": "code",
   "execution_count": 95,
   "id": "21eb854b-12e3-4787-9c84-c63c8a0cdcde",
   "metadata": {},
   "outputs": [
    {
     "data": {
      "image/png": "[encoded data removed]",
      "text/latex": [
       "$\\displaystyle 0$"
      ],
      "text/plain": [
       "0"
      ]
     },
     "execution_count": 95,
     "metadata": {},
     "output_type": "execute_result"
    }
   ],
   "source": [
    "int_.doit()"
   ]
  },
  {
   "cell_type": "markdown",
   "id": "cc39a47c-1bdf-4f03-b61e-433b0924dfea",
   "metadata": {},
   "source": [
    "We have now shown the following functions(the constant) $\\cos(2\\pi \\cdot 0 \\cdot x )$, $  \\sqrt{2}\\sin(2\\pi \\cdot m \\cdot x ) $ and \n",
    "$ \\sqrt{2}\\cos(2\\pi \\cdot n \\cdot x )$ form a orthonormal system. $\\square$."
   ]
  },
  {
   "cell_type": "code",
   "execution_count": null,
   "id": "3f85f51f-fc1e-429b-9062-aec2ef8bfcf6",
   "metadata": {},
   "outputs": [],
   "source": []
  }
 ],
 "metadata": {
  "kernelspec": {
   "display_name": "Python 3 (ipykernel)",
   "language": "python",
   "name": "python3"
  },
  "language_info": {
   "codemirror_mode": {
    "name": "ipython",
    "version": 3
   },
   "file_extension": ".py",
   "mimetype": "text/x-python",
   "name": "python",
   "nbconvert_exporter": "python",
   "pygments_lexer": "ipython3",
   "version": "3.10.4"
  }
 },
 "nbformat": 4,
 "nbformat_minor": 5
}
