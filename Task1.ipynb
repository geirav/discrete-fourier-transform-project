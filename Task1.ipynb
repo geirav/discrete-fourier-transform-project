{
 "cells": [
  {
   "cell_type": "code",
   "execution_count": 31,
   "id": "a3d04d9f-1875-4e0c-969f-56ff3e6fc560",
   "metadata": {},
   "outputs": [],
   "source": [
    "import sympy as sy"
   ]
  },
  {
   "cell_type": "markdown",
   "id": "6c1a4857-b93b-433a-a75e-13860395a90d",
   "metadata": {},
   "source": [
    "# Task 1\n",
    "\n"
   ]
  },
  {
   "cell_type": "markdown",
   "id": "95c71a16-e39f-4ae3-b300-2f0f6c23c619",
   "metadata": {},
   "source": [
    "## 1 a)\n",
    "\n",
    "Assume $x \\in \\mathbb{T} $ and $k,h \\in \\mathbb{Z}$. Then is \n",
    "$$\n",
    "\\langle e^{2 \\pi i kx}, e^{2 \\pi i hx} \\rangle\n",
    " = \\begin{cases}\n",
    " 1, \\quad \\text{if } k= h \\\\\n",
    " 0 \\quad \\text{else }\n",
    " \\end{cases}\n",
    " $$\n",
    "\n",
    "**Proof.** Using the definition of inner product can we easily see that \n",
    "$$\n",
    "\\langle e^{2 \\pi i kx}, e^{2 \\pi i hx} \\rangle = \\int_0^1 e^{2 \\pi i kx} \\overline{ e^{2 \\pi i hx}} dx =  \\int_0^1 e^{2 \\pi i (k - h)x} dx\n",
    " $$\n",
    " We can easily see that if $k=h$, then is \n",
    " $$\n",
    "  \\int_0^1 e^{2 \\pi i (k - h)x} dx = \\int_0^1 1 \\cdot  dx = 1\n",
    " $$\n",
    "\n",
    "For the case $k \\neq h$ is \n",
    "$$\n",
    " \\begin{align}\n",
    " \\int_0^1 e^{2 \\pi i (k - h)x} dx &= \\frac{1}{2 \\pi i (k - h)} (e^{2 \\pi i (k - h)} - 1)  \\\\\n",
    " &= \\frac{e^{ \\pi i (k - h)}}{ \\pi  (k - h)} \\cdot  \\frac{(e^{ \\pi i (k - h)} - e^{ - \\pi i (k - h)})}{2i} \\\\\n",
    " \\\\\n",
    "  &= \\frac{e^{ \\pi i (k - h)}}{ \\pi  (k - h)} \\cdot  sin( \\pi  (k - h))  = 0\n",
    " \\end{align}\n",
    "$$\n",
    "\n",
    "Hence, the orthonormality is shown.  $\\square$"
   ]
  },
  {
   "cell_type": "markdown",
   "id": "7823fe78-d0d2-495d-8051-d71d042e9fbd",
   "metadata": {},
   "source": [
    "## 1 b)\n",
    "\n",
    "Assume $x \\in \\mathbb{T} $ and $m,n \\in 1,2, \\dots $. Then the following functions (the constant) $\\cos(2\\pi \\cdot 0 \\cdot x )$, $  \\sqrt{2}\\sin(2\\pi \\cdot m \\cdot x ) $ and \n",
    "$ \\sqrt{2}\\cos(2\\pi \\cdot n \\cdot x )$ form a orthonormal system. \n",
    "\n",
    "\n",
    "**Todo:** May want to do the integrals using this method instead: https://math.stackexchange.com/questions/32646/fourier-basis-functions\n",
    "\n",
    "**Proof.**  To show that this is a orthonormal system we need to show these relations\n",
    "\n",
    "1. \n",
    "For $n,m=1,2,3,\\dots$ does this hold\n",
    "$$ \\langle \\sqrt{2} \\sin(2\\pi n),\\sqrt{2} \\sin(2\\pi m)  \\rangle = \n",
    "\\begin{cases}\n",
    "0, \\quad m \\neq n \\\\\n",
    "1, \\quad m = n\n",
    "\\end{cases}\n",
    "$$\n",
    "2. \n",
    "For $n,m=0,1,2,3,\\dots$ does this hold **Oops: Is n,m= 0 necessary?**\n",
    "$$\n",
    "\\langle \\sqrt{2} \\cos(2\\pi n),\\sqrt{2} \\cos(2\\pi m)  \\rangle \n",
    "\\begin{cases}\n",
    "0, \\quad m \\neq n\\\\\n",
    "1, \\quad m = n \\neq 0 \\\\\n",
    "2, \\quad m = n = 0\n",
    "\\end{cases}\n",
    "$$\n",
    "\n",
    "3. $\\langle \\sqrt{2} \\sin(2\\pi m x),\\sqrt{2} \\cos(2\\pi n x)  \\rangle = 0 $ for $n,m=1,2,3,\\dots$\n",
    "4. $\\langle \\cos(2 \\pi 0 x), \\cos(2 \\pi 0 x)   \\rangle  = 1 $\n",
    "5. $\\langle \\cos(2\\pi 0 x),\\sqrt{2} \\cos(2\\pi n x)  \\rangle = 0$ for  $n = 1,2,3,\\dots$\n",
    "6. $\\langle \\cos(2\\pi 0 x),\\sqrt{2} \\sin(2\\pi m x )  \\rangle = 0$ for $m = 1,2,3,\\dots$.\n"
   ]
  },
  {
   "cell_type": "markdown",
   "id": "e68e2ba3-96cb-4054-b635-bd0fb7ebf46d",
   "metadata": {},
   "source": [
    "We will utilize Sympy so we dont need to compute the hafty integrals by hand. "
   ]
  },
  {
   "cell_type": "code",
   "execution_count": 32,
   "id": "b2d4f9d4-e83b-4ba3-bfb2-4dab3ded3cf8",
   "metadata": {},
   "outputs": [],
   "source": [
    "# Defining symbols\n",
    "sy.init_printing(use_unicode=True, wrap_line=True)\n",
    "x  = sy.symbols('x')\n",
    "n, m = sy.symbols('n m', integer = True, positive=True) # Positive integers 1,2,3,..."
   ]
  },
  {
   "cell_type": "markdown",
   "id": "e71f6610-5f52-498f-968a-34aa2584fe0e",
   "metadata": {},
   "source": [
    "#### Proof of 1."
   ]
  },
  {
   "cell_type": "markdown",
   "id": "c4dcb447-c232-4130-96fd-a5c66998e052",
   "metadata": {},
   "source": [
    "The expression can be expressed in Sympy as "
   ]
  },
  {
   "cell_type": "code",
   "execution_count": 33,
   "id": "1c9f0523-51f3-4bbe-8bb9-3bb19891f865",
   "metadata": {},
   "outputs": [
    {
     "data": {
      "image/png": "[encoded data removed]",
      "text/latex": [
       "$\\displaystyle \\int\\limits_{0}^{1} 2 \\sin{\\left(2 \\pi m x \\right)} \\sin{\\left(2 \\pi n x \\right)}\\, dx$"
      ],
      "text/plain": [
       "1                               \n",
       "⌠                               \n",
       "⎮ 2⋅sin(2⋅π⋅m⋅x)⋅sin(2⋅π⋅n⋅x) dx\n",
       "⌡                               \n",
       "0                               "
      ]
     },
     "execution_count": 33,
     "metadata": {},
     "output_type": "execute_result"
    }
   ],
   "source": [
    "int_ = sy.Integral( 2*sy.sin(2 * sy.pi * m * x)*sy.sin(2 * sy.pi * n * x), (x,0,1))\n",
    "int_"
   ]
  },
  {
   "cell_type": "markdown",
   "id": "b6ce3767-75df-4b0a-8501-4abc332db0db",
   "metadata": {},
   "source": [
    "And solving the integral $m,n = 1,2,3, \\dots $ gives"
   ]
  },
  {
   "cell_type": "code",
   "execution_count": 34,
   "id": "bd148870-3a52-47f2-8ac8-2f98244e4290",
   "metadata": {},
   "outputs": [
    {
     "data": {
      "image/png": "[encoded data removed]",
      "text/latex": [
       "$\\displaystyle \\begin{cases} 0 & \\text{for}\\: m \\neq n \\\\1 & \\text{otherwise} \\end{cases}$"
      ],
      "text/plain": [
       "⎧0  for m ≠ n\n",
       "⎨            \n",
       "⎩1  otherwise"
      ]
     },
     "execution_count": 34,
     "metadata": {},
     "output_type": "execute_result"
    }
   ],
   "source": [
    "int_.doit()"
   ]
  },
  {
   "cell_type": "markdown",
   "id": "1b9c5da7-a94a-4d34-83c4-203c95f8805a",
   "metadata": {},
   "source": [
    "which is equivalent to the expression we want to show."
   ]
  },
  {
   "cell_type": "markdown",
   "id": "5e6c8608-483d-4955-b238-4d0f4dd18d0c",
   "metadata": {},
   "source": [
    "#### Proof of 2. \n",
    "It is expressed in Sympy as "
   ]
  },
  {
   "cell_type": "code",
   "execution_count": 35,
   "id": "7791f158-655d-4f77-9ef7-1d7e731e2d85",
   "metadata": {},
   "outputs": [
    {
     "data": {
      "image/png": "[encoded data removed]",
      "text/latex": [
       "$\\displaystyle \\int\\limits_{0}^{1} 2 \\cos{\\left(2 \\pi m x \\right)} \\cos{\\left(2 \\pi n x \\right)}\\, dx$"
      ],
      "text/plain": [
       "1                               \n",
       "⌠                               \n",
       "⎮ 2⋅cos(2⋅π⋅m⋅x)⋅cos(2⋅π⋅n⋅x) dx\n",
       "⌡                               \n",
       "0                               "
      ]
     },
     "execution_count": 35,
     "metadata": {},
     "output_type": "execute_result"
    }
   ],
   "source": [
    "int_ = sy.Integral( 2*sy.cos(2 * sy.pi * m * x)*sy.cos(2 * sy.pi * n * x), (x,0,1))\n",
    "int_"
   ]
  },
  {
   "cell_type": "markdown",
   "id": "a623b102-cee5-4f4c-8d39-d8811c6e6cee",
   "metadata": {},
   "source": [
    "And solving the integral for $m,n = 1,2,3, \\dots $ gives"
   ]
  },
  {
   "cell_type": "code",
   "execution_count": 36,
   "id": "17b1d439-9f88-44ed-81d2-4039d9594889",
   "metadata": {},
   "outputs": [
    {
     "data": {
      "image/png": "[encoded data removed]",
      "text/latex": [
       "$\\displaystyle \\begin{cases} 0 & \\text{for}\\: m \\neq n \\\\1 & \\text{otherwise} \\end{cases}$"
      ],
      "text/plain": [
       "⎧0  for m ≠ n\n",
       "⎨            \n",
       "⎩1  otherwise"
      ]
     },
     "execution_count": 36,
     "metadata": {},
     "output_type": "execute_result"
    }
   ],
   "source": [
    "int_.doit()"
   ]
  },
  {
   "cell_type": "markdown",
   "id": "038fb4f6-f119-454f-98a6-15d08e332cb9",
   "metadata": {},
   "source": [
    "Now it remind to check if $m=0$ or $n= 0$. Obviously, if $n=m =0$ is $$\\langle \\sqrt{2} \\cos(2\\pi 0 x),\\sqrt{2} \\cos(2\\pi 0 x)  \\rangle = 2. $$ \n",
    "\n",
    "Similarly, if $n=0$ and $m>0$ (and the other way around) does this hold \n",
    "$$\\langle \\sqrt{2} \\cos(2\\pi 0 x),\\sqrt{2} \\cos(2\\pi m x)  \\rangle =  \\int_0^1 2 \\cos(2\\pi n x) dx = 0 $$"
   ]
  },
  {
   "cell_type": "markdown",
   "id": "49ccf126-6924-4f58-a99f-c7ac1781c4c5",
   "metadata": {},
   "source": [
    "Hence, the expression is true."
   ]
  },
  {
   "cell_type": "markdown",
   "id": "639d0760-7254-4f6e-91cf-55ab771da787",
   "metadata": {},
   "source": [
    "#### Proof of 3\n",
    "And finally, the third equation can be expressed in Sympy as \n"
   ]
  },
  {
   "cell_type": "code",
   "execution_count": 37,
   "id": "b266f5ac-c805-45be-a29c-108c752b546c",
   "metadata": {},
   "outputs": [
    {
     "data": {
      "image/png": "[encoded data removed]",
      "text/latex": [
       "$\\displaystyle \\int\\limits_{0}^{1} 2 \\sin{\\left(2 \\pi n x \\right)} \\cos{\\left(2 \\pi m x \\right)}\\, dx$"
      ],
      "text/plain": [
       "1                               \n",
       "⌠                               \n",
       "⎮ 2⋅sin(2⋅π⋅n⋅x)⋅cos(2⋅π⋅m⋅x) dx\n",
       "⌡                               \n",
       "0                               "
      ]
     },
     "execution_count": 37,
     "metadata": {},
     "output_type": "execute_result"
    }
   ],
   "source": [
    "int_ = sy.Integral( 2*sy.sin(2 * sy.pi * n * x)*sy.cos(2 * sy.pi * m * x), (x,0,1))\n",
    "int_"
   ]
  },
  {
   "cell_type": "markdown",
   "id": "6a5a42f5-8b3d-46ed-a119-bff8db569160",
   "metadata": {},
   "source": [
    "which is zero when evaluating the integral."
   ]
  },
  {
   "cell_type": "code",
   "execution_count": 38,
   "id": "15c1cbc1-b1b1-4695-a3f2-e7641a03fcff",
   "metadata": {},
   "outputs": [
    {
     "data": {
      "image/png": "[encoded data removed]",
      "text/latex": [
       "$\\displaystyle 0$"
      ],
      "text/plain": [
       "0"
      ]
     },
     "execution_count": 38,
     "metadata": {},
     "output_type": "execute_result"
    }
   ],
   "source": [
    "int_.doit()"
   ]
  },
  {
   "cell_type": "markdown",
   "id": "bb338e81-f76d-45f2-ae96-7da77e429174",
   "metadata": {},
   "source": [
    "### Proof of 4.,5.,6.\n",
    "\n",
    "Trivial."
   ]
  },
  {
   "cell_type": "markdown",
   "id": "cc39a47c-1bdf-4f03-b61e-433b0924dfea",
   "metadata": {},
   "source": [
    "We have now shown the following functions form a orthonormal system. $\\square$"
   ]
  },
  {
   "cell_type": "markdown",
   "id": "16e54eb3-e256-4f20-8f67-0761eca69882",
   "metadata": {},
   "source": [
    "## 1 c)\n",
    "\n",
    "The orthonormal basis of $\\mathcal{T}_n$ is $\\{e^{2 \\pi i k x} \\}_{k=-n}^{n}$ using the argumentation in 1a) and similarly for $\\mathcal{S}_n$ is the orthonormal basis $\\{ \\sqrt{2}\\cos(2 \\pi k x), \\sqrt{2}\\sin(2 \\pi k x), \\cos(2 \\pi x 0) \\}_{k=1}^n$ using the argumentation of what we have learned in 1b). We can show they are equivalent using some complex identities, \n",
    "\n",
    "$$\n",
    "\\begin{align}\n",
    "\\sin(x) &= \\frac{e^{ix} -e^{-ix} }{2i}= \\frac{i}{2}e^{-ix} - \\frac{i}{2}e^{ix} \\\\\n",
    "\\cos(x) & = \\frac{1}{2}e^{-ix} + \\frac{1}{2}e^{ix} \\\\\n",
    "\\end{align}\n",
    "$$\n",
    "\n",
    "We want to show that $f(x)$ is equivalent in $\\mathcal{S}_n$ and $\\mathcal{T}_n$. \n",
    "\n",
    "$$\n",
    "\\begin{align}\n",
    "f(x) &= \\frac{a_0}{2} + \\sum_{k=1}^n a_k \\cos(2\\pi k x) + b_k \\sin(2\\pi k x) \\\\\n",
    "&= \\frac{a_0}{2} + \\sum_{k=1}^n a_k( \\frac{1}{2}e^{-ix} + \\frac{1}{2}e^{ix}  ) + b_k (\\frac{i}{2}e^{-ix} - \\frac{i}{2}e^{ix} ) \\\\\n",
    "&= \\frac{a_0}{2} +  \\sum_{k=1}^n e^{-2 \\pi k i x} (\\frac{a_k}{2} - \\frac{i b_k}{2})\n",
    "+ e^{2 \\pi k i x} (\\frac{a_k}{2} + \\frac{i b_k}{2}) \\\\\n",
    "&=  \\sum_{k=-n}^n c_n e^{2 \\pi k i x}\n",
    "\\end{align}\n",
    "$$\n",
    "\n",
    "Since $f(x)$ is equivalent we can conclude that $\\mathcal{T}_n = \\mathcal{S}_n$ since they span the same space. \n",
    "\n",
    "The dimension of $\\mathcal{T}_n$ is $2n +1$. **NOT SURE**."
   ]
  },
  {
   "cell_type": "markdown",
   "id": "5e4f7398-eeef-4a73-a76a-6cb49c572185",
   "metadata": {},
   "source": [
    "## 1 c)\n",
    "\n",
    "I will only show for $a_k$. We want to utilize the orthonormal system to cancel out all the other coefficients we are not interested in. \n",
    "\n",
    "$$\n",
    "\\begin{align}\n",
    "f(x)\\cos(2\\pi k x) &= \\frac{a_0}{2}\\cos(2\\pi k x) + \\sum_{k=1}^n a_k \\cos(2\\pi k x)\\cos(2\\pi k x) + b_k \\sin(2\\pi k x)\\cos(2\\pi k x) \\\\\n",
    "\\langle f(x),\\cos(2\\pi k x) \\rangle &= \\langle \\frac{a_0}{2}, \\cos(2\\pi k x) \\rangle +  \\sum_{k=1}^n  \\langle a_k \\cos(2\\pi k x), \\cos(2\\pi k x)\\rangle +   \\langle b_k \\sin(2\\pi k x), \\cos(2\\pi k x)\\rangle \\\\\n",
    "\\langle f(x),\\cos(2\\pi k x) \\rangle &= a_k \\langle  \\cos(2\\pi k x), \\cos(2\\pi k x)\\rangle = \\frac{a_k}{2} \n",
    "\\end{align}\n",
    "$$\n",
    "Hence, $a_k =  2\\langle f(x),\\cos(2\\pi k x) \\rangle $, which also holds for $k=0$. Exactly the same procedure can be done for $b_k$ by multiplying $\\sin(2\\pi k x)$ (which obviously holds only for $k>0$)."
   ]
  },
  {
   "cell_type": "code",
   "execution_count": null,
   "id": "9b1e275e-b569-4804-9bd2-a323647e4ebd",
   "metadata": {},
   "outputs": [],
   "source": []
  }
 ],
 "metadata": {
  "kernelspec": {
   "display_name": "Python 3 (ipykernel)",
   "language": "python",
   "name": "python3"
  },
  "language_info": {
   "codemirror_mode": {
    "name": "ipython",
    "version": 3
   },
   "file_extension": ".py",
   "mimetype": "text/x-python",
   "name": "python",
   "nbconvert_exporter": "python",
   "pygments_lexer": "ipython3",
   "version": "3.8.10"
  }
 },
 "nbformat": 4,
 "nbformat_minor": 5
}
