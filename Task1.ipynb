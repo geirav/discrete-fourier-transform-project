{
 "cells": [
  {
   "cell_type": "code",
   "execution_count": 1,
   "id": "a3d04d9f-1875-4e0c-969f-56ff3e6fc560",
   "metadata": {},
   "outputs": [
    {
     "ename": "ModuleNotFoundError",
     "evalue": "No module named 'sympy'",
     "output_type": "error",
     "traceback": [
      "\u001b[0;31m---------------------------------------------------------------------------\u001b[0m",
      "\u001b[0;31mModuleNotFoundError\u001b[0m                       Traceback (most recent call last)",
      "Cell \u001b[0;32mIn [1], line 1\u001b[0m\n\u001b[0;32m----> 1\u001b[0m \u001b[38;5;28;01mimport\u001b[39;00m \u001b[38;5;21;01msympy\u001b[39;00m \u001b[38;5;28;01mas\u001b[39;00m \u001b[38;5;21;01msy\u001b[39;00m\n",
      "\u001b[0;31mModuleNotFoundError\u001b[0m: No module named 'sympy'"
     ]
    }
   ],
   "source": [
    "import sympy as sy"
   ]
  },
  {
   "cell_type": "markdown",
   "id": "6c1a4857-b93b-433a-a75e-13860395a90d",
   "metadata": {},
   "source": [
    "# Task 1\n",
    "\n"
   ]
  },
  {
   "cell_type": "markdown",
   "id": "95c71a16-e39f-4ae3-b300-2f0f6c23c619",
   "metadata": {},
   "source": [
    "## 1 a)\n",
    "\n",
    "Assume $x \\in \\mathbb{T} $ and $k,h \\in \\mathbb{Z}$. Then is \n",
    "$$\n",
    "\\langle e^{2 \\pi i kx}, e^{2 \\pi i hx} \\rangle\n",
    " = \\begin{cases}\n",
    " 1, \\quad \\text{if } k= h \\\\\n",
    " 0 \\quad \\text{else }\n",
    " \\end{cases}\n",
    " $$\n",
    "\n",
    "**Proof.** Using the definition of inner product can we easily see that \n",
    "$$\n",
    "\\langle e^{2 \\pi i kx}, e^{2 \\pi i hx} \\rangle = \\int_0^1 e^{2 \\pi i kx} \\overline{ e^{2 \\pi i hx}} dx =  \\int_0^1 e^{2 \\pi i (k - h)x} dx\n",
    " $$\n",
    " We can easily see that if $k=h$, then is \n",
    " $$\n",
    "  \\int_0^1 e^{2 \\pi i (k - h)x} dx = \\int_0^1 1 \\cdot  dx = 1\n",
    " $$\n",
    "\n",
    "For the case $k \\neq h$ is \n",
    "$$\n",
    "  \\int_0^1 e^{2 \\pi i (k - h)x} dx = \\frac{1}{2 \\pi i (k - h)} (e^{2 \\pi i (k - h)} - 1) = \\frac{e^{ \\pi i (k - h)}}{ \\pi  (k - h)} \\cdot  \\frac{(e^{ \\pi i (k - h)} - e^{ - \\pi i (k - h)})}{2i} = \\frac{e^{ \\pi i (k - h)}}{ \\pi  (k - h)} \\cdot  sin( \\pi  (k - h))  = 0\n",
    "$$\n",
    "\n",
    "Hence, the orthonormality is shown.  $\\square$"
   ]
  },
  {
   "cell_type": "markdown",
   "id": "7823fe78-d0d2-495d-8051-d71d042e9fbd",
   "metadata": {},
   "source": [
    "## 1 b)\n",
    "\n",
    "Assume $x \\in \\mathbb{T} $ and $m,n \\in 1,2, \\dots $. Then the following functions (the constant) $1$, $  \\sqrt{2}\\sin(2\\pi \\cdot m \\cdot x ) $ and \n",
    "$ \\sqrt{2}\\cos(2\\pi \\cdot n \\cdot x )$ form a orthonormal system. \n",
    "\n",
    "**Proof.** We will first see if the functions are orthonormal to itself.\n",
    "\n",
    "\n",
    "$$\n",
    "\\langle 1, 1   \\rangle = \\int_0^1 dx = 1 \n",
    "$$\n",
    "\n",
    "$$\n",
    "\\langle \\sqrt{2} \\sin(2\\pi n),\\sqrt{2} \\sin(2\\pi m)  \\rangle\n",
    " = \\int_0^1 2  \\sin(2\\pi n) \\sin(2\\pi m)dx \n",
    " $$\n"
   ]
  },
  {
   "cell_type": "code",
   "execution_count": null,
   "id": "b2d4f9d4-e83b-4ba3-bfb2-4dab3ded3cf8",
   "metadata": {},
   "outputs": [],
   "source": []
  }
 ],
 "metadata": {
  "kernelspec": {
   "display_name": "Python 3 (ipykernel)",
   "language": "python",
   "name": "python3"
  },
  "language_info": {
   "codemirror_mode": {
    "name": "ipython",
    "version": 3
   },
   "file_extension": ".py",
   "mimetype": "text/x-python",
   "name": "python",
   "nbconvert_exporter": "python",
   "pygments_lexer": "ipython3",
   "version": "3.8.10"
  }
 },
 "nbformat": 4,
 "nbformat_minor": 5
}
