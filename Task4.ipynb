{
 "cells": [
  {
   "cell_type": "code",
   "execution_count": null,
   "metadata": {
    "collapsed": true
   },
   "outputs": [],
   "source": [
    "import cv2\n",
    "import numpy as np\n",
    "import matplotlib.pyplot as plt\n",
    "\n",
    "# Started by converting all images to png with online converter\n",
    "# Could also have converted it by coding and saved the new file\n",
    "\n",
    "barbara = cv2.imread('barbara.png', 0)   # read image\n",
    "klaus = cv2.imread('klaus.png', 0)\n",
    "yarimton = cv2.imread('Yarimton-dithered.png', 0)\n",
    "lighthouse = cv2.imread('lighthouse-dithered.png', 0)\n",
    "munkholmen = cv2.imread('munkholmen-dithered.png', 0)\n",
    "\n",
    "def plot_two_images(image_1, title_1, image_2, title_2):\n",
    "    plt.subplot(121), plt.imshow(image_1, 'gray'), plt.title(title_1)\n",
    "    plt.subplot(122), plt.imshow(image_2, 'gray'), plt.title(title_2)\n",
    "    plt.show()\n",
    "\n",
    "def plot_three_images(image_1, title_1, image_2, title_2, image_3, title_3):\n",
    "    plt.subplot(131), plt.imshow(image_1, 'gray'), plt.title(title_1)\n",
    "    plt.subplot(132), plt.imshow(image_2, 'gray'), plt.title(title_2)\n",
    "    plt.subplot(133), plt.imshow(image_3, 'gray'), plt.title(title_3)\n",
    "    plt.show()\n",
    "\n",
    "plot_two_images(barbara, 'Barbara', klaus, 'Klaus')\n",
    "\n",
    "def fft_and_ifft(image):\n",
    "    fft = np.fft.fft2(image)\n",
    "    out_fft = np.log(np.abs(fft))\n",
    "    ifft = np.fft.ifft2(image)\n",
    "    out_ifft = np.log(np.abs(ifft))\n",
    "    return out_fft, out_ifft"
   ]
  },
  {
   "cell_type": "code",
   "execution_count": null,
   "outputs": [],
   "source": [
    "barbara_fft, barbara_ifft = fft_and_ifft(barbara)\n",
    "klaus_fft, klaus_ifft = fft_and_ifft(klaus)\n",
    "\n",
    "plot_two_images(barbara_fft, 'Barbara_fft', barbara_ifft, 'Barbara_fft')\n",
    "plot_two_images(klaus_fft, 'Klaus_fft', klaus_ifft, 'Klaus_fft')"
   ],
   "metadata": {
    "collapsed": false,
    "pycharm": {
     "name": "#%%\n"
    }
   }
  },
  {
   "cell_type": "markdown",
   "source": [
    "4b)"
   ],
   "metadata": {
    "collapsed": false
   }
  },
  {
   "cell_type": "code",
   "execution_count": null,
   "outputs": [],
   "source": [
    "plot_three_images(yarimton, 'Yarimton', lighthouse, 'Lighthouse', munkholmen, 'Munkholmen')\n",
    "\n",
    "yarimton_fft, yarimton_ifft = fft_and_ifft(yarimton)\n",
    "lighthouse_fft, lighthouse_ifft = fft_and_ifft(lighthouse)\n",
    "munkholmen_fft, munkholmen_ifft = fft_and_ifft(munkholmen)\n",
    "\n",
    "plot_two_images(yarimton_fft, 'yarimton_fft', yarimton_ifft, 'yarimton_ifft')\n",
    "plot_two_images(lighthouse_fft, 'lighthouse_fft', lighthouse_ifft, 'lighthouse_ifft')\n",
    "plot_two_images(munkholmen_fft, 'munkholmen_fft', munkholmen_ifft, 'munkholmen_ifft')"
   ],
   "metadata": {
    "collapsed": false,
    "pycharm": {
     "name": "#%%\n"
    }
   }
  }
 ],
 "metadata": {
  "kernelspec": {
   "display_name": "Python 3",
   "language": "python",
   "name": "python3"
  },
  "language_info": {
   "codemirror_mode": {
    "name": "ipython",
    "version": 2
   },
   "file_extension": ".py",
   "mimetype": "text/x-python",
   "name": "python",
   "nbconvert_exporter": "python",
   "pygments_lexer": "ipython2",
   "version": "2.7.6"
  }
 },
 "nbformat": 4,
 "nbformat_minor": 0
}