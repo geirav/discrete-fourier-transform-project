{
 "cells": [
  {
   "cell_type": "code",
   "execution_count": null,
   "metadata": {
    "collapsed": true
   },
   "outputs": [],
   "source": [
    "import cv2\n",
    "import numpy as np\n",
    "import matplotlib.pyplot as plt\n",
    "\n",
    "# Started by converting images to png with online converter\n",
    "# Could also have converted it by coding and saved the new file\n",
    "\n",
    "barbara = cv2.imread('barbara.png',0)   # read image\n",
    "klaus = cv2.imread('klaus.png', 0)\n",
    "plt.subplot(121),plt.imshow(barbara,'gray'),plt.title('barbara')\n",
    "plt.subplot(122),plt.imshow(klaus,'gray'),plt.title('Klaus')\n",
    "plt.show()\n",
    "\n",
    "fft_barbara = np.fft.fft2(barbara)\n",
    "out_barbara_fft = np.log(np.abs(fft_barbara))\n",
    "ifft_barbara = np.fft.ifft2(barbara)\n",
    "out_barbara_ifft = np.log(np.abs(ifft_barbara))\n",
    "\n",
    "fft_klaus = np.fft.fft2(klaus)\n",
    "out_klaus_fft = np.log(np.abs(fft_klaus))\n",
    "ifft_klaus = np.fft.ifft2(klaus)\n",
    "out_klaus_ifft = np.log(np.abs(ifft_klaus))\n",
    "\n",
    "plt.subplot(121), plt.imshow(out_barbara_fft, 'gray'), plt.title('np.barbara_fft_output')\n",
    "plt.subplot(122), plt.imshow(out_barbara_ifft, 'gray'), plt.title('np.barbara_ifft_output')\n",
    "plt.show()\n",
    "\n",
    "plt.subplot(121), plt.imshow(out_klaus_fft, 'gray'), plt.title('np.klaus_fft_output')\n",
    "plt.subplot(122), plt.imshow(out_klaus_ifft, 'gray'), plt.title('np.klaus_ifft_output')\n",
    "plt.show()"
   ]
  }
 ],
 "metadata": {
  "kernelspec": {
   "display_name": "Python 3",
   "language": "python",
   "name": "python3"
  },
  "language_info": {
   "codemirror_mode": {
    "name": "ipython",
    "version": 2
   },
   "file_extension": ".py",
   "mimetype": "text/x-python",
   "name": "python",
   "nbconvert_exporter": "python",
   "pygments_lexer": "ipython2",
   "version": "2.7.6"
  }
 },
 "nbformat": 4,
 "nbformat_minor": 0
}