{
 "cells": [
  {
   "cell_type": "code",
   "execution_count": null,
   "id": "1eb7005c-71b0-4dc0-9b5e-d9dfa743cba8",
   "metadata": {},
   "outputs": [],
   "source": []
  }
 ],
 "metadata": {
  "kernelspec": {
   "display_name": "",
   "name": ""
  },
  "language_info": {
   "name": ""
  }
 },
 "nbformat": 4,
 "nbformat_minor": 5
}
