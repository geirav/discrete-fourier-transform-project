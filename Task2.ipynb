{
 "cells": [
  {
   "cell_type": "markdown",
   "id": "3820b9a4-0af8-4d15-8cce-715df4c7ff54",
   "metadata": {},
   "source": [
    "\n",
    "\n",
    "# Task 2\n",
    "\n"
   ]
  },
  {
   "cell_type": "markdown",
   "id": "6c17f9a9-cd82-430b-81ea-3792ca0e6c73",
   "metadata": {},
   "source": [
    "## 2b)\n",
    "\n",
    "Let us define\n",
    "\n",
    "$$\n",
    "c_k(f)  = \\langle f(x), e^{-2 \\pi i k x} \\rangle\n",
    "$$\n",
    "\n",
    "and the operator $c_k(\\tau_N^j f ) = c_k(f)(x-j/N) $.\n",
    "\n",
    "\n",
    "Then does this hold\n",
    "\n",
    "$$\n",
    "c_k(\\tau_n  f )  = e ^{- 2\\pi k/N} c_k(f).\n",
    "$$\n",
    "\n",
    "**Proof.** \n",
    "\n",
    "$$\n",
    "\\begin{align}\n",
    "c_k(\\tau_N f) &= c_k(f(x - 1/N)) \\\\\n",
    " &= \\int_{-1/2}^{1/2} f(x - 1/N) e^{-2 \\pi i k x} dx   \\\\\n",
    "   u = x- 1/N \\implies   &= e^{-2 \\pi i k/N} \\int_{-1/2 - 1/N}^{1/2 - 1/N} f(u) e^{-2 \\pi i  k u } du,   \\\\    &=  e^{-2 \\pi i k/N}  c_k(f)\n",
    "    \\\\\n",
    "\\end{align}\n",
    "$$\n",
    "Hence, the statement is true. $\\square$\n",
    "\n",
    "**Remark.** This can also be generalized by using induction, i.e.,\n",
    "$$\n",
    "c_k(\\tau_N^j  f )  = e ^{- 2\\pi k/N} c_k(\\tau_N^{j-1} f) = e ^{- 2\\pi j k/N} c_k( f) .\n",
    "$$\n"
   ]
  },
  {
   "cell_type": "markdown",
   "id": "000d4f0d-0083-4fab-ad1d-067271404afa",
   "metadata": {},
   "source": [
    "\n",
    "\n",
    "# Task 2c)\n",
    "\n",
    "Let $ V_{N,f} = span (f, \\tau_N f, \\dots ,\\tau_N^{N-1} f )$. If $g \\in V_{N,f}$, then is $\\tau_N g \\in V_{N,f}$.\n",
    "\n",
    "**Proof.** We can argue that since $g$ is periodic, i.e. $\\tau_N^N g = g$, has the consequence that the function still has to be in $ V_{N,f}$. $\\square$\n",
    "\n",
    "We can also observe that the function $\\tau_N g$ has the same coefficients as $g$ since \n",
    "\n",
    "$$\n",
    "\\tau_N g = \\\n",
    "$$"
   ]
  },
  {
   "cell_type": "code",
   "execution_count": null,
   "id": "5612ddef-56ca-445a-8c95-d253e2d74d38",
   "metadata": {},
   "outputs": [],
   "source": [
    "\n",
    "We "
   ]
  }
 ],
 "metadata": {
  "kernelspec": {
   "display_name": "Python 3 (ipykernel)",
   "language": "python",
   "name": "python3"
  },
  "language_info": {
   "codemirror_mode": {
    "name": "ipython",
    "version": 3
   },
   "file_extension": ".py",
   "mimetype": "text/x-python",
   "name": "python",
   "nbconvert_exporter": "python",
   "pygments_lexer": "ipython3",
   "version": "3.10.4"
  }
 },
 "nbformat": 4,
 "nbformat_minor": 5
}
