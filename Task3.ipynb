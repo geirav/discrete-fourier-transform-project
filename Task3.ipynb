{
 "cells": [
  {
   "cell_type": "markdown",
   "metadata": {
    "collapsed": true,
    "pycharm": {
     "name": "#%% md\n"
    }
   },
   "source": [
    "# Task 3"
   ]
  },
  {
   "cell_type": "code",
   "source": [
    "from scipy import special\n",
    "import matplotlib.pyplot as plt\n",
    "import numpy as np\n",
    "\n",
    "def diric(x,n):\n",
    "    return np.sin(x*(n/2)) / (n*np.sin(x/2))\n",
    "\n",
    "x = np.linspace(-8*np.pi, 8*np.pi, num=201)\n",
    "plt.figure(figsize=(8, 8));\n",
    "for idx, n in enumerate([5, 10, 17]):\n",
    "    plt.subplot(2, 2, idx+1)\n",
    "    length = 0\n",
    "    for i in special.diric(x, n):\n",
    "        if i == 0 or i == 1:\n",
    "            plt.plot(x[length], i, 'o')\n",
    "        length += 1\n",
    "    plt.plot(x, special.diric(x, n))\n",
    "    plt.title('diric, n={}'.format(n))\n",
    "plt.show()\n"
   ],
   "metadata": {
    "collapsed": false,
    "pycharm": {
     "name": "#%%\n"
    }
   },
   "execution_count": null,
   "outputs": []
  }
 ],
 "metadata": {
  "kernelspec": {
   "display_name": "Python 3",
   "language": "python",
   "name": "python3"
  },
  "language_info": {
   "codemirror_mode": {
    "name": "ipython",
    "version": 2
   },
   "file_extension": ".py",
   "mimetype": "text/x-python",
   "name": "python",
   "nbconvert_exporter": "python",
   "pygments_lexer": "ipython2",
   "version": "2.7.6"
  }
 },
 "nbformat": 4,
 "nbformat_minor": 0
}